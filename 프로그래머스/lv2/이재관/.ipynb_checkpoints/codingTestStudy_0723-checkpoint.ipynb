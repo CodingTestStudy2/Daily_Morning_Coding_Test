{
 "cells": [
  {
   "cell_type": "markdown",
   "id": "b38e7ca3",
   "metadata": {},
   "source": [
    "#### 숫자 배열을 조합하여 가장 큰 수 반환\n",
    "#### 1) 맨앞에 있는 수가 큰 요소를 앞으로\n",
    "#### 2) 맨앞에 있는 수가 같으면 맨 앞에 있는 수가 "
   ]
  },
  {
   "cell_type": "code",
   "execution_count": 157,
   "id": "e00c260f",
   "metadata": {},
   "outputs": [],
   "source": [
    "numbers = [3,30,34,5,9]"
   ]
  },
  {
   "cell_type": "code",
   "execution_count": 167,
   "id": "ca71f806",
   "metadata": {},
   "outputs": [],
   "source": [
    "def quick_sort(arr):\n",
    "    if len(arr)<=1:\n",
    "        return arr\n",
    "\n",
    "    pivot = len(arr)//2\n",
    "    pre_pv = []\n",
    "    pv = []\n",
    "    af_pv=[]\n",
    "\n",
    "    for i in range(len(arr)):\n",
    "        if str(arr[i])[0] >str(arr[pivot])[0]:\n",
    "            pre_pv.append(arr[i])\n",
    "        elif str(arr[i])[0]<str(arr[pivot])[0]:\n",
    "            af_pv.append(arr[i])    \n",
    "        elif str(arr[i])[0] == str(arr[pivot])[0]:\n",
    "            tmp_num = max(len(str(arr[i]),len(str(arr[pivot]))))\n",
    "            for j in range(len(1,tmp_num)):\n",
    "                if str(arr[i])[j] == str(arr[pivot])[j]:\n",
    "                    \n",
    "                \n",
    "                \n",
    "        else:\n",
    "            pv.append(arr[i])\n",
    "\n",
    "    if int(str(pv[0])[0]) in pv:\n",
    "        tmp_num = int(str(pv[0])[0])\n",
    "        ch_num = int(str(pv[0])[0])*11\n",
    "        pv.append(ch_num)\n",
    "        pv = sorted(pv,reverse=True)\n",
    "        pv.remove(tmp_num)\n",
    "        print(pv)\n",
    "        pv = [tmp_num if x == ch_num else x for x in pv]\n",
    "\n",
    "\n",
    "    return quick_sort(pre_pv)+pv+quick_sort(af_pv)\n",
    "\n",
    "def solution(numbers):\n",
    "    \n",
    "    result = list(map(str,quick_sort(numbers)))\n",
    "    answer = \"\".join(result)\n",
    "\n",
    "    return answer"
   ]
  },
  {
   "cell_type": "code",
   "execution_count": null,
   "id": "a8b3daf4",
   "metadata": {},
   "outputs": [],
   "source": []
  },
  {
   "cell_type": "code",
   "execution_count": null,
   "id": "7d444d84",
   "metadata": {},
   "outputs": [],
   "source": []
  },
  {
   "cell_type": "code",
   "execution_count": null,
   "id": "285c0b47",
   "metadata": {},
   "outputs": [],
   "source": []
  }
 ],
 "metadata": {
  "kernelspec": {
   "display_name": "Python 3 (ipykernel)",
   "language": "python",
   "name": "python3"
  },
  "language_info": {
   "codemirror_mode": {
    "name": "ipython",
    "version": 3
   },
   "file_extension": ".py",
   "mimetype": "text/x-python",
   "name": "python",
   "nbconvert_exporter": "python",
   "pygments_lexer": "ipython3",
   "version": "3.11.4"
  }
 },
 "nbformat": 4,
 "nbformat_minor": 5
}
