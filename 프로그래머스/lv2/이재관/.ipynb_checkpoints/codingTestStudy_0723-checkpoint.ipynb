{
 "cells": [
  {
   "cell_type": "markdown",
   "id": "5bdeb784",
   "metadata": {},
   "source": [
    "#### 숫자 배열을 조합하여 가장 큰 수 반환\n",
    "#### 맨앞에 있는 수가 큰 요소를 앞으로\n",
    "\n",
    "\n",
    "### 리뷰 idea: 사전 순 비교(ex: 333, 323232, 311311311)"
   ]
  },
  {
   "cell_type": "code",
   "execution_count": 12,
   "id": "676378e0",
   "metadata": {},
   "outputs": [],
   "source": [
    "numbers = [3,30,34,5,9]"
   ]
  },
  {
   "cell_type": "code",
   "execution_count": 15,
   "id": "c2d2d115",
   "metadata": {},
   "outputs": [],
   "source": [
    "numbers = list(map(str,numbers))\n",
    "result = sorted(numbers, key=lambda x: x*3,reverse=True)\n",
    "answer = \"\".join(result)"
   ]
  },
  {
   "cell_type": "markdown",
   "id": "1ed29ccc",
   "metadata": {},
   "source": [
    "### 기본 아이디어가 부족함"
   ]
  },
  {
   "cell_type": "code",
   "execution_count": 167,
   "id": "43820591",
   "metadata": {},
   "outputs": [],
   "source": [
    "def quick_sort(arr):\n",
    "    if len(arr)<=1:\n",
    "        return arr\n",
    "\n",
    "    pivot = len(arr)//2\n",
    "    pre_pv = []\n",
    "    pv = []\n",
    "    af_pv=[]\n",
    "\n",
    "    for i in range(len(arr)):\n",
    "        if str(arr[i])[0] >str(arr[pivot])[0]:\n",
    "            pre_pv.append(arr[i])\n",
    "        elif str(arr[i])[0]<str(arr[pivot])[0]:\n",
    "            af_pv.append(arr[i])    \n",
    "        elif str(arr[i])[0] == str(arr[pivot])[0]:\n",
    "            tmp_num = max(len(str(arr[i]),len(str(arr[pivot]))))\n",
    "            for j in range(len(1,tmp_num)):\n",
    "                if str(arr[i])[j] == str(arr[pivot])[j]:\n",
    "                    \n",
    "                \n",
    "                \n",
    "        else:\n",
    "            pv.append(arr[i])\n",
    "\n",
    "    if int(str(pv[0])[0]) in pv:\n",
    "        tmp_num = int(str(pv[0])[0])\n",
    "        ch_num = int(str(pv[0])[0])*11\n",
    "        pv.append(ch_num)\n",
    "        pv = sorted(pv,reverse=True)\n",
    "        pv.remove(tmp_num)\n",
    "        print(pv)\n",
    "        pv = [tmp_num if x == ch_num else x for x in pv]\n",
    "\n",
    "\n",
    "    return quick_sort(pre_pv)+pv+quick_sort(af_pv)\n",
    "\n",
    "def solution(numbers):\n",
    "    \n",
    "    result = list(map(str,quick_sort(numbers)))\n",
    "    answer = \"\".join(result)\n",
    "\n",
    "    return answer"
   ]
  },
  {
   "cell_type": "code",
   "execution_count": null,
   "id": "f99a6edb",
   "metadata": {},
   "outputs": [],
   "source": []
  },
  {
   "cell_type": "code",
   "execution_count": null,
   "id": "b1b6a39f",
   "metadata": {},
   "outputs": [],
   "source": []
  },
  {
   "cell_type": "code",
   "execution_count": null,
   "id": "520a5afd",
   "metadata": {},
   "outputs": [],
   "source": []
  }
 ],
 "metadata": {
  "kernelspec": {
   "display_name": "Python 3 (ipykernel)",
   "language": "python",
   "name": "python3"
  },
  "language_info": {
   "codemirror_mode": {
    "name": "ipython",
    "version": 3
   },
   "file_extension": ".py",
   "mimetype": "text/x-python",
   "name": "python",
   "nbconvert_exporter": "python",
   "pygments_lexer": "ipython3",
   "version": "3.11.4"
  }
 },
 "nbformat": 4,
 "nbformat_minor": 5
}
