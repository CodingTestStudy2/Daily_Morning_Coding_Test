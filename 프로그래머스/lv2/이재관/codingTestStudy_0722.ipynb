{
 "cells": [
  {
   "cell_type": "markdown",
   "id": "85137c59",
   "metadata": {},
   "source": [
    "### 1번"
   ]
  },
  {
   "cell_type": "markdown",
   "id": "a212d2f9",
   "metadata": {},
   "source": [
    "#### 두 배열의 행렬곱\n",
    "#### return: 곱셈 결과 행렬"
   ]
  },
  {
   "cell_type": "code",
   "execution_count": 36,
   "id": "00fb7123",
   "metadata": {},
   "outputs": [],
   "source": [
    "def solution(arr1, arr2):\n",
    "    result_rows = len(arr1)\n",
    "    result_cols = len(arr2[0])\n",
    "    result_dim = len(arr2)\n",
    "    \n",
    "    answer = [[0 for _ in range(result_cols)] for _ in range(result_rows)]\n",
    "    \n",
    "    for i in range(result_rows):\n",
    "        for j in range(result_cols):\n",
    "            for k in range(result_dim):\n",
    "                answer[i][j] += arr1[i][k] * arr2[k][j]\n",
    "    \n",
    "    return answer"
   ]
  },
  {
   "cell_type": "markdown",
   "id": "3f0a04c4",
   "metadata": {},
   "source": [
    "### 2번\n"
   ]
  },
  {
   "cell_type": "markdown",
   "id": "b1591f28",
   "metadata": {},
   "source": [
    "#### n: 지점수, paths: 등산로 정보, gates: 출입구들 번호 정보 배열, summits: 봉우리 정보\n",
    "#### return: [봉우리 번호, 최소 intensity]"
   ]
  },
  {
   "cell_type": "code",
   "execution_count": 34,
   "id": "2335a29e",
   "metadata": {},
   "outputs": [],
   "source": [
    "n = 6\n",
    "paths = [[1, 2, 3], [2, 3, 5], [2, 4, 2], [2, 5, 4], [3, 4, 4], [4, 5, 3], [4, 6, 1], [5, 6, 1]]\n",
    "gates = [1, 3]\n",
    "summits = [5]"
   ]
  },
  {
   "cell_type": "markdown",
   "id": "3a7624b9",
   "metadata": {},
   "source": [
    "#### 출입구: 1,3\n",
    "#### 반드시 지나야하는 점:5\n",
    "#### 출구와 입구는 반드시 같은 점\n",
    "#### 봉우리는 반드시 한 번"
   ]
  },
  {
   "cell_type": "markdown",
   "id": "190fdd79",
   "metadata": {},
   "source": [
    "## 풀이 방법\n",
    "\n",
    "### 1번으로 출입하는 경우와 3번으로 출입하는 경우를 나누어 dfs\n",
    "### 봉우리를 반드시 지나야함"
   ]
  },
  {
   "cell_type": "code",
   "execution_count": 37,
   "id": "9a5b63a0",
   "metadata": {},
   "outputs": [],
   "source": [
    "def solution(n, paths, gates, summits):\n",
    "    answer = []\n",
    "    return answer"
   ]
  },
  {
   "cell_type": "code",
   "execution_count": 42,
   "id": "c3670bb5",
   "metadata": {},
   "outputs": [],
   "source": [
    "link = []\n",
    "weight = []\n",
    "for i in paths:\n",
    "    link.append(i[:2])\n",
    "    weight.append(i[-1])"
   ]
  },
  {
   "cell_type": "code",
   "execution_count": 44,
   "id": "7053432c",
   "metadata": {},
   "outputs": [
    {
     "data": {
      "text/plain": [
       "[[1, 2], [2, 3], [2, 4], [2, 5], [3, 4], [4, 5], [4, 6], [5, 6]]"
      ]
     },
     "execution_count": 44,
     "metadata": {},
     "output_type": "execute_result"
    }
   ],
   "source": [
    "link"
   ]
  },
  {
   "cell_type": "code",
   "execution_count": null,
   "id": "a8bd01d0",
   "metadata": {},
   "outputs": [],
   "source": [
    "## 1번 출입구\n",
    "for i in gates:\n",
    "    for j in link:\n",
    "        if i in j:\n",
    "            \n",
    "        \n",
    "        \n",
    "        "
   ]
  },
  {
   "cell_type": "code",
   "execution_count": null,
   "id": "c8abe746",
   "metadata": {},
   "outputs": [],
   "source": []
  },
  {
   "cell_type": "code",
   "execution_count": null,
   "id": "3acce424",
   "metadata": {},
   "outputs": [],
   "source": []
  },
  {
   "cell_type": "code",
   "execution_count": null,
   "id": "671b0f71",
   "metadata": {},
   "outputs": [],
   "source": []
  },
  {
   "cell_type": "code",
   "execution_count": null,
   "id": "55173222",
   "metadata": {},
   "outputs": [],
   "source": []
  },
  {
   "cell_type": "code",
   "execution_count": null,
   "id": "08b55410",
   "metadata": {},
   "outputs": [],
   "source": []
  },
  {
   "cell_type": "code",
   "execution_count": null,
   "id": "8b3bd799",
   "metadata": {},
   "outputs": [],
   "source": []
  },
  {
   "cell_type": "code",
   "execution_count": null,
   "id": "6af5ec8c",
   "metadata": {},
   "outputs": [],
   "source": []
  },
  {
   "cell_type": "code",
   "execution_count": null,
   "id": "e55e813a",
   "metadata": {},
   "outputs": [],
   "source": []
  },
  {
   "cell_type": "code",
   "execution_count": null,
   "id": "22c367a4",
   "metadata": {},
   "outputs": [],
   "source": []
  },
  {
   "cell_type": "code",
   "execution_count": null,
   "id": "d1594fd1",
   "metadata": {},
   "outputs": [],
   "source": []
  },
  {
   "cell_type": "code",
   "execution_count": null,
   "id": "a2216b65",
   "metadata": {},
   "outputs": [],
   "source": []
  }
 ],
 "metadata": {
  "kernelspec": {
   "display_name": "Python 3 (ipykernel)",
   "language": "python",
   "name": "python3"
  },
  "language_info": {
   "codemirror_mode": {
    "name": "ipython",
    "version": 3
   },
   "file_extension": ".py",
   "mimetype": "text/x-python",
   "name": "python",
   "nbconvert_exporter": "python",
   "pygments_lexer": "ipython3",
   "version": "3.11.4"
  }
 },
 "nbformat": 4,
 "nbformat_minor": 5
}
