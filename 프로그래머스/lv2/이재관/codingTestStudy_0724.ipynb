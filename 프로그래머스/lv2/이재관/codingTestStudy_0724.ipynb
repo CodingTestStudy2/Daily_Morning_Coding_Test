{
 "cells": [
  {
   "cell_type": "markdown",
   "id": "88df3613",
   "metadata": {},
   "source": [
    "### 반시계방향으로 달팽이 채우기"
   ]
  },
  {
   "cell_type": "code",
   "execution_count": 124,
   "id": "5801dc1b",
   "metadata": {},
   "outputs": [],
   "source": [
    "def solution(n):\n",
    "    answer = []\n",
    "    answer = [[0 for j in range(1,i+1)] for i in range(1,n+1) ]\n",
    "\n",
    "    cnt =1\n",
    "    x=-1\n",
    "    y=0\n",
    "\n",
    "    for i in range(n):\n",
    "        for j in range(i, n):\n",
    "            if i % 3 == 0:         \n",
    "                x += 1\n",
    "\n",
    "            elif i % 3 == 1:\n",
    "                y += 1\n",
    "\n",
    "            elif i % 3 == 2:\n",
    "                x -= 1\n",
    "                y -= 1\n",
    "\n",
    "            answer[x][y] = cnt\n",
    "            cnt += 1\n",
    "\n",
    "    answer = sum(answer,[])\n",
    "    return answer"
   ]
  },
  {
   "cell_type": "code",
   "execution_count": 121,
   "id": "4c26f4c4",
   "metadata": {},
   "outputs": [],
   "source": []
  },
  {
   "cell_type": "code",
   "execution_count": 122,
   "id": "0aacd36f",
   "metadata": {},
   "outputs": [],
   "source": []
  },
  {
   "cell_type": "code",
   "execution_count": 123,
   "id": "35d583be",
   "metadata": {},
   "outputs": [],
   "source": []
  },
  {
   "cell_type": "code",
   "execution_count": null,
   "id": "b6e8e3c7",
   "metadata": {},
   "outputs": [],
   "source": []
  }
 ],
 "metadata": {
  "kernelspec": {
   "display_name": "Python 3 (ipykernel)",
   "language": "python",
   "name": "python3"
  },
  "language_info": {
   "codemirror_mode": {
    "name": "ipython",
    "version": 3
   },
   "file_extension": ".py",
   "mimetype": "text/x-python",
   "name": "python",
   "nbconvert_exporter": "python",
   "pygments_lexer": "ipython3",
   "version": "3.11.4"
  }
 },
 "nbformat": 4,
 "nbformat_minor": 5
}
