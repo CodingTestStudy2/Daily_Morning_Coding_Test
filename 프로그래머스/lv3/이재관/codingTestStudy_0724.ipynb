{
 "cells": [
  {
   "cell_type": "markdown",
   "id": "6ee66ad7",
   "metadata": {},
   "source": [
    "### 가장 시청자가 많은 시간대 추출"
   ]
  },
  {
   "cell_type": "code",
   "execution_count": 26,
   "id": "08b2c744",
   "metadata": {},
   "outputs": [],
   "source": [
    "play_time = \"02:03:55\"\n",
    "adv_time = \"00:14:15\"\n",
    "logs = [\"01:20:15-01:45:14\", \"00:40:31-01:00:00\", \"00:25:50-00:48:29\", \"01:30:59-01:53:29\", \"01:37:44-02:02:30\"]\n"
   ]
  },
  {
   "cell_type": "code",
   "execution_count": 27,
   "id": "e8e7b4c8",
   "metadata": {},
   "outputs": [],
   "source": [
    "logs = list(map(lambda x: x.split('-'),logs))"
   ]
  },
  {
   "cell_type": "code",
   "execution_count": 28,
   "id": "8c14db4c",
   "metadata": {},
   "outputs": [],
   "source": [
    "def time_to_second(time):\n",
    "    h,m,s = map(int,time.split(\":\"))\n",
    "    time = h*3600+m*60+s\n",
    "    return time"
   ]
  },
  {
   "cell_type": "code",
   "execution_count": 29,
   "id": "79b4478c",
   "metadata": {},
   "outputs": [],
   "source": [
    "play_time = time_to_second(play_time)\n",
    "adv_time = time_to_second(adv_time)"
   ]
  },
  {
   "cell_type": "code",
   "execution_count": 38,
   "id": "578d9b91",
   "metadata": {},
   "outputs": [],
   "source": [
    "max_time = 0\n",
    "min_time = 99999\n",
    "for log_s,log_e in logs:\n",
    "    tmp_logs = time_to_second(log_s)\n",
    "    tmp_loge = time_to_second(log_e)\n",
    "    \n",
    "    if tmp_loge > max_time:\n",
    "        max_time = tmp_loge\n",
    "        \n",
    "    if min_time > tmp_logs:\n",
    "        min_time = tmp_logs"
   ]
  },
  {
   "cell_type": "code",
   "execution_count": 45,
   "id": "cf36f01d",
   "metadata": {},
   "outputs": [],
   "source": [
    "screen_time = [0 for i in range(play_time)]"
   ]
  },
  {
   "cell_type": "code",
   "execution_count": 47,
   "id": "34202a5f",
   "metadata": {},
   "outputs": [
    {
     "data": {
      "text/plain": [
       "7435"
      ]
     },
     "execution_count": 47,
     "metadata": {},
     "output_type": "execute_result"
    }
   ],
   "source": []
  },
  {
   "cell_type": "code",
   "execution_count": null,
   "id": "cceec3df",
   "metadata": {},
   "outputs": [],
   "source": []
  }
 ],
 "metadata": {
  "kernelspec": {
   "display_name": "Python 3 (ipykernel)",
   "language": "python",
   "name": "python3"
  },
  "language_info": {
   "codemirror_mode": {
    "name": "ipython",
    "version": 3
   },
   "file_extension": ".py",
   "mimetype": "text/x-python",
   "name": "python",
   "nbconvert_exporter": "python",
   "pygments_lexer": "ipython3",
   "version": "3.11.4"
  }
 },
 "nbformat": 4,
 "nbformat_minor": 5
}
