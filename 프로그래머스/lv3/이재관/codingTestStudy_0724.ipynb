{
 "cells": [
  {
   "cell_type": "markdown",
   "id": "9d362991",
   "metadata": {},
   "source": [
    "### 가장 시청자가 많은 시간대 추출"
   ]
  },
  {
   "cell_type": "code",
   "execution_count": 170,
   "id": "4d9b2def",
   "metadata": {},
   "outputs": [],
   "source": [
    "play_time = \"02:03:55\"\n",
    "adv_time = \"00:14:15\"\n",
    "logs = [\"01:20:15-01:45:14\", \"00:40:31-01:00:00\", \"00:25:50-00:48:29\", \"01:30:59-01:53:29\", \"01:37:44-02:02:30\"]\n"
   ]
  },
  {
   "cell_type": "code",
   "execution_count": 171,
   "id": "21b5f709",
   "metadata": {},
   "outputs": [],
   "source": [
    "logs = list(map(lambda x: x.split('-'),logs))"
   ]
  },
  {
   "cell_type": "code",
   "execution_count": 172,
   "id": "7b1729a7",
   "metadata": {},
   "outputs": [],
   "source": [
    "def time_to_second(time):\n",
    "    h,m,s = map(int,time.split(\":\"))\n",
    "    time = h*3600+m*60+s\n",
    "    return time"
   ]
  },
  {
   "cell_type": "code",
   "execution_count": 173,
   "id": "bd028028",
   "metadata": {},
   "outputs": [],
   "source": [
    "play_time = time_to_second(play_time)\n",
    "adv_time = time_to_second(adv_time)"
   ]
  },
  {
   "cell_type": "code",
   "execution_count": 174,
   "id": "41e10c73",
   "metadata": {},
   "outputs": [],
   "source": [
    "screen_time = [0 for i in range(play_time)]"
   ]
  },
  {
   "cell_type": "code",
   "execution_count": 158,
   "id": "1bfce980",
   "metadata": {},
   "outputs": [],
   "source": [
    "for log_s,log_e in logs:\n",
    "    tmp_logs = time_to_second(log_s)\n",
    "    tmp_loge = time_to_second(log_e)\n",
    "    \n",
    "    view_cnt = [1]*(tmp_loge+1-tmp_logs)\n",
    "    prev_cnt = screen_time[tmp_logs:tmp_loge+1]\n",
    "    \n",
    "    screen_time[tmp_logs:tmp_loge+1]=[a+b for a,b in zip(view_cnt,prev_cnt)]"
   ]
  },
  {
   "cell_type": "code",
   "execution_count": 176,
   "id": "f384e536",
   "metadata": {},
   "outputs": [
    {
     "data": {
      "text/plain": [
       "7350"
      ]
     },
     "execution_count": 176,
     "metadata": {},
     "output_type": "execute_result"
    }
   ],
   "source": []
  },
  {
   "cell_type": "code",
   "execution_count": 159,
   "id": "9552ce41",
   "metadata": {},
   "outputs": [],
   "source": [
    "import numpy as np"
   ]
  },
  {
   "cell_type": "code",
   "execution_count": 167,
   "id": "15991185",
   "metadata": {},
   "outputs": [
    {
     "data": {
      "text/plain": [
       "5864"
      ]
     },
     "execution_count": 167,
     "metadata": {},
     "output_type": "execute_result"
    }
   ],
   "source": [
    "screen_time.index(max(screen_time))"
   ]
  },
  {
   "cell_type": "code",
   "execution_count": 105,
   "id": "c2247b4a",
   "metadata": {},
   "outputs": [
    {
     "data": {
      "text/plain": [
       "1487"
      ]
     },
     "execution_count": 105,
     "metadata": {},
     "output_type": "execute_result"
    }
   ],
   "source": [
    "len(screen_time[tmp_logs:tmp_loge+1])"
   ]
  },
  {
   "cell_type": "code",
   "execution_count": 110,
   "id": "66e9ddf7",
   "metadata": {},
   "outputs": [
    {
     "data": {
      "text/plain": [
       "1487"
      ]
     },
     "execution_count": 110,
     "metadata": {},
     "output_type": "execute_result"
    }
   ],
   "source": [
    "len([1]*(tmp_loge+1-tmp_logs))"
   ]
  },
  {
   "cell_type": "code",
   "execution_count": 93,
   "id": "ace7be37",
   "metadata": {},
   "outputs": [],
   "source": [
    "tmp = [1,2,3,4,5]"
   ]
  },
  {
   "cell_type": "code",
   "execution_count": 95,
   "id": "d3c373c6",
   "metadata": {},
   "outputs": [],
   "source": [
    "tmp[2:5] = [1]*3"
   ]
  },
  {
   "cell_type": "code",
   "execution_count": 103,
   "id": "b7d2bfb2",
   "metadata": {},
   "outputs": [],
   "source": [
    "tmp[2:5] = [a + b for a, b in zip(tmp[2:5], [1]*3)]"
   ]
  },
  {
   "cell_type": "code",
   "execution_count": 131,
   "id": "5493eed1",
   "metadata": {},
   "outputs": [
    {
     "data": {
      "text/plain": [
       "451"
      ]
     },
     "execution_count": 131,
     "metadata": {},
     "output_type": "execute_result"
    }
   ],
   "source": [
    "len([x for x in screen_time if x > 2])"
   ]
  },
  {
   "cell_type": "code",
   "execution_count": 132,
   "id": "2cc6cf4a",
   "metadata": {},
   "outputs": [
    {
     "data": {
      "text/plain": [
       "900"
      ]
     },
     "execution_count": 132,
     "metadata": {},
     "output_type": "execute_result"
    }
   ],
   "source": [
    "15*60"
   ]
  },
  {
   "cell_type": "code",
   "execution_count": 161,
   "id": "54bc641a",
   "metadata": {},
   "outputs": [],
   "source": [
    "t = [1,2,3,4,5,5,5]"
   ]
  },
  {
   "cell_type": "code",
   "execution_count": 162,
   "id": "1604202b",
   "metadata": {},
   "outputs": [
    {
     "data": {
      "text/plain": [
       "4"
      ]
     },
     "execution_count": 162,
     "metadata": {},
     "output_type": "execute_result"
    }
   ],
   "source": [
    "t.index(5)"
   ]
  },
  {
   "cell_type": "code",
   "execution_count": 178,
   "id": "0cf2ef7c",
   "metadata": {},
   "outputs": [
    {
     "data": {
      "text/plain": [
       "1"
      ]
     },
     "execution_count": 178,
     "metadata": {},
     "output_type": "execute_result"
    }
   ],
   "source": [
    "5864//3600"
   ]
  },
  {
   "cell_type": "code",
   "execution_count": 180,
   "id": "6f6837ba",
   "metadata": {},
   "outputs": [
    {
     "data": {
      "text/plain": [
       "37"
      ]
     },
     "execution_count": 180,
     "metadata": {},
     "output_type": "execute_result"
    }
   ],
   "source": [
    "(5864%3600)//60"
   ]
  },
  {
   "cell_type": "code",
   "execution_count": 181,
   "id": "a20fda9d",
   "metadata": {},
   "outputs": [
    {
     "data": {
      "text/plain": [
       "44"
      ]
     },
     "execution_count": 181,
     "metadata": {},
     "output_type": "execute_result"
    }
   ],
   "source": [
    "(5864%3600)%60"
   ]
  },
  {
   "cell_type": "code",
   "execution_count": null,
   "id": "388df2be",
   "metadata": {},
   "outputs": [],
   "source": []
  }
 ],
 "metadata": {
  "kernelspec": {
   "display_name": "Python 3 (ipykernel)",
   "language": "python",
   "name": "python3"
  },
  "language_info": {
   "codemirror_mode": {
    "name": "ipython",
    "version": 3
   },
   "file_extension": ".py",
   "mimetype": "text/x-python",
   "name": "python",
   "nbconvert_exporter": "python",
   "pygments_lexer": "ipython3",
   "version": "3.11.4"
  }
 },
 "nbformat": 4,
 "nbformat_minor": 5
}
